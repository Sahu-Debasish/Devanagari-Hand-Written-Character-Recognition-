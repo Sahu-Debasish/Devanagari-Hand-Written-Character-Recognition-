{
 "cells": [
  {
   "cell_type": "markdown",
   "id": "87c9e45f",
   "metadata": {},
   "source": [
    "# Importing Libraries"
   ]
  },
  {
   "cell_type": "code",
   "execution_count": 15,
   "id": "27cf7936",
   "metadata": {},
   "outputs": [],
   "source": [
    "import tensorflow as tf\n",
    "from tensorflow import keras\n",
    "from tensorflow.keras import layers\n",
    "from tensorflow.keras.preprocessing.image import ImageDataGenerator\n",
    "import matplotlib.pyplot as plt\n"
   ]
  },
  {
   "cell_type": "markdown",
   "id": "c419b25d",
   "metadata": {},
   "source": [
    "# Data Augmentation and Directories"
   ]
  },
  {
   "cell_type": "code",
   "execution_count": 16,
   "id": "b3e92930",
   "metadata": {},
   "outputs": [],
   "source": [
    "train_data_dir = \"D:\\\\MLIA\\\\DevanagariHandwrittenCharacterDataset\\\\Train\"\n",
    "test_data_dir = \"D:\\\\MLIA\\\\DevanagariHandwrittenCharacterDataset\\\\Test\"\n",
    "\n",
    "train_data_gen = ImageDataGenerator(\n",
    "    rescale=1./255,\n",
    "    rotation_range=10,\n",
    "    width_shift_range=0.1,\n",
    "    height_shift_range=0.1,\n",
    "    zoom_range=0.2,\n",
    "    horizontal_flip=True,\n",
    "    fill_mode='nearest'\n",
    ")\n"
   ]
  },
  {
   "cell_type": "markdown",
   "id": "96d425d1",
   "metadata": {},
   "source": [
    "# Load Training Data"
   ]
  },
  {
   "cell_type": "code",
   "execution_count": 17,
   "id": "a5ac76ff",
   "metadata": {},
   "outputs": [
    {
     "name": "stdout",
     "output_type": "stream",
     "text": [
      "Found 5000 images belonging to 10 classes.\n"
     ]
    }
   ],
   "source": [
    "train_generator = train_data_gen.flow_from_directory(\n",
    "    train_data_dir,\n",
    "    target_size=(32, 32),\n",
    "    batch_size=32,\n",
    "    class_mode='categorical',\n",
    "    color_mode='grayscale',\n",
    ")\n"
   ]
  },
  {
   "cell_type": "markdown",
   "id": "d44b1dc0",
   "metadata": {},
   "source": [
    "# Load Test Data"
   ]
  },
  {
   "cell_type": "code",
   "execution_count": 18,
   "id": "8cc071e4",
   "metadata": {},
   "outputs": [
    {
     "name": "stdout",
     "output_type": "stream",
     "text": [
      "Found 1000 images belonging to 10 classes.\n"
     ]
    }
   ],
   "source": [
    "test_data_gen = ImageDataGenerator(rescale=1./255)\n",
    "\n",
    "test_generator = test_data_gen.flow_from_directory(\n",
    "    test_data_dir,\n",
    "    target_size=(32, 32),\n",
    "    batch_size=32,\n",
    "    class_mode='categorical',\n",
    "    color_mode='grayscale',\n",
    ")\n"
   ]
  },
  {
   "cell_type": "markdown",
   "id": "230cf3fa",
   "metadata": {},
   "source": [
    "# Define the Number of Output Classes"
   ]
  },
  {
   "cell_type": "code",
   "execution_count": 19,
   "id": "8bd3f29a",
   "metadata": {},
   "outputs": [],
   "source": [
    "num_classes = 10  "
   ]
  },
  {
   "cell_type": "markdown",
   "id": "d4e4aa25",
   "metadata": {},
   "source": [
    "# Build the LeNet-5 Model"
   ]
  },
  {
   "cell_type": "code",
   "execution_count": 20,
   "id": "6091eb29",
   "metadata": {},
   "outputs": [],
   "source": [
    "model = keras.Sequential([\n",
    "    layers.Conv2D(6, kernel_size=(5, 5), activation='relu', input_shape=(32, 32, 1)),\n",
    "    layers.MaxPooling2D(pool_size=(2, 2)),\n",
    "    layers.Conv2D(16, kernel_size=(5, 5), activation='relu'),\n",
    "    layers.MaxPooling2D(pool_size=(2, 2)),\n",
    "    layers.Flatten(),\n",
    "    layers.Dense(120, activation='relu'),\n",
    "    layers.Dense(84, activation='relu'),\n",
    "    layers.Dense(num_classes, activation='softmax')\n",
    "])\n"
   ]
  },
  {
   "cell_type": "markdown",
   "id": "85c4af1a",
   "metadata": {},
   "source": [
    "# Model Compilation"
   ]
  },
  {
   "cell_type": "code",
   "execution_count": 21,
   "id": "666b7870",
   "metadata": {},
   "outputs": [],
   "source": [
    "model.compile(optimizer='adam',\n",
    "              loss='categorical_crossentropy',\n",
    "              metrics=['accuracy'])\n"
   ]
  },
  {
   "cell_type": "markdown",
   "id": "619f7a72",
   "metadata": {},
   "source": [
    "# Model Training"
   ]
  },
  {
   "cell_type": "code",
   "execution_count": 22,
   "id": "4410c29d",
   "metadata": {},
   "outputs": [
    {
     "name": "stdout",
     "output_type": "stream",
     "text": [
      "Epoch 1/10\n",
      "157/157 [==============================] - 9s 45ms/step - loss: 1.2741 - accuracy: 0.5486\n",
      "Epoch 2/10\n",
      "157/157 [==============================] - 7s 43ms/step - loss: 0.7150 - accuracy: 0.7444\n",
      "Epoch 3/10\n",
      "157/157 [==============================] - 7s 43ms/step - loss: 0.5458 - accuracy: 0.8096\n",
      "Epoch 4/10\n",
      "157/157 [==============================] - 7s 44ms/step - loss: 0.4355 - accuracy: 0.8566\n",
      "Epoch 5/10\n",
      "157/157 [==============================] - 7s 43ms/step - loss: 0.3690 - accuracy: 0.8766\n",
      "Epoch 6/10\n",
      "157/157 [==============================] - 7s 44ms/step - loss: 0.3557 - accuracy: 0.8742\n",
      "Epoch 7/10\n",
      "157/157 [==============================] - 7s 44ms/step - loss: 0.3224 - accuracy: 0.8914\n",
      "Epoch 8/10\n",
      "157/157 [==============================] - 7s 43ms/step - loss: 0.2716 - accuracy: 0.9088\n",
      "Epoch 9/10\n",
      "157/157 [==============================] - 7s 43ms/step - loss: 0.2547 - accuracy: 0.9088\n",
      "Epoch 10/10\n",
      "157/157 [==============================] - 7s 42ms/step - loss: 0.2369 - accuracy: 0.9194\n"
     ]
    },
    {
     "data": {
      "image/png": "[encoded data removed]",
      "text/plain": [
       "<Figure size 864x288 with 2 Axes>"
      ]
     },
     "metadata": {
      "needs_background": "light"
     },
     "output_type": "display_data"
    }
   ],
   "source": [
    "model.fit(train_generator, epochs=10)\n",
    "\n",
    "\n",
    "plt.figure(figsize=(12, 4))\n",
    "\n",
    "# Plot training & validation accuracy\n",
    "plt.subplot(1, 2, 1)\n",
    "plt.plot(history.history['accuracy'], label='Training Accuracy')\n",
    "plt.plot(history.history['val_accuracy'], label='Validation Accuracy')\n",
    "plt.title('Model Accuracy')\n",
    "plt.xlabel('Epoch')\n",
    "plt.ylabel('Accuracy')\n",
    "plt.legend(loc='lower right')\n",
    "\n",
    "# Plot training & validation loss\n",
    "plt.subplot(1, 2, 2)\n",
    "plt.plot(history.history['loss'], label='Training Loss')\n",
    "plt.plot(history.history['val_loss'], label='Validation Loss')\n",
    "plt.title('Model Loss')\n",
    "plt.xlabel('Epoch')\n",
    "plt.ylabel('Loss')\n",
    "plt.legend(loc='upper right')\n",
    "\n",
    "plt.show()\n"
   ]
  },
  {
   "cell_type": "markdown",
   "id": "636a18ca",
   "metadata": {},
   "source": [
    "# Model Evaluation"
   ]
  },
  {
   "cell_type": "code",
   "execution_count": 23,
   "id": "95c30bf3",
   "metadata": {},
   "outputs": [
    {
     "name": "stdout",
     "output_type": "stream",
     "text": [
      "32/32 [==============================] - 1s 23ms/step - loss: 0.2071 - accuracy: 0.9340\n",
      "\n",
      "Test accuracy: 0.9340000152587891\n",
      "157/157 [==============================] - 6s 41ms/step - loss: 0.2175 - accuracy: 0.9258\n",
      "\n",
      "Train accuracy: 0.9258000254631042\n"
     ]
    }
   ],
   "source": [
    "test_loss, test_accuracy = model.evaluate(test_generator)\n",
    "print(\"\\nTest accuracy:\", test_accuracy)\n",
    "\n",
    "train_loss, train_accuracy = model.evaluate(train_generator)\n",
    "print(\"\\nTrain accuracy:\", train_accuracy)\n"
   ]
  },
  {
   "cell_type": "markdown",
   "id": "c6c0896b",
   "metadata": {},
   "source": [
    "# Model Saving"
   ]
  },
  {
   "cell_type": "code",
   "execution_count": 24,
   "id": "57186cab",
   "metadata": {},
   "outputs": [],
   "source": [
    "model.save('FINALCODE.h5')"
   ]
  },
  {
   "cell_type": "markdown",
   "id": "ae9bb360",
   "metadata": {},
   "source": [
    "# Precision, Recall, F1-Score"
   ]
  },
  {
   "cell_type": "code",
   "execution_count": 25,
   "id": "91c9da59",
   "metadata": {},
   "outputs": [
    {
     "name": "stdout",
     "output_type": "stream",
     "text": [
      "1/1 [==============================] - 0s 166ms/step\n",
      "              precision    recall  f1-score   support\n",
      "\n",
      "           0       0.80      1.00      0.89         4\n",
      "           1       1.00      1.00      1.00         1\n",
      "           2       1.00      1.00      1.00         2\n",
      "           3       0.50      1.00      0.67         2\n",
      "           4       1.00      1.00      1.00         3\n",
      "           5       1.00      0.83      0.91         6\n",
      "           6       1.00      0.80      0.89         5\n",
      "           7       0.80      0.80      0.80         5\n",
      "           8       1.00      1.00      1.00         2\n",
      "           9       1.00      0.50      0.67         2\n",
      "\n",
      "    accuracy                           0.88        32\n",
      "   macro avg       0.91      0.89      0.88        32\n",
      "weighted avg       0.91      0.88      0.88        32\n",
      "\n"
     ]
    }
   ],
   "source": [
    "from sklearn.metrics import classification_report\n",
    "import numpy as np\n",
    "\n",
    "# Assuming you have already trained your model, and you have test data and labels\n",
    "# Replace 'test_data' and 'test_labels' with your actual test data and labels\n",
    "test_data, test_labels = next(test_generator)  # Load a batch of test data\n",
    "test_labels = np.argmax(test_labels, axis=1)  # Convert one-hot encoded labels to integers\n",
    "\n",
    "# Make predictions using your trained model\n",
    "predictions = model.predict(test_data)\n",
    "predicted_labels = np.argmax(predictions, axis=1)\n",
    "\n",
    "# Calculate Precision, Recall, and F1-Score\n",
    "report = classification_report(test_labels, predicted_labels, target_names=[str(i) for i in range(num_classes)])\n",
    "\n",
    "print(report)\n"
   ]
  },
  {
   "cell_type": "code",
   "execution_count": 26,
   "id": "dd4d5c21",
   "metadata": {},
   "outputs": [
    {
     "data": {
      "image/png": "[encoded data removed]",
      "text/plain": [
       "<Figure size 720x864 with 3 Axes>"
      ]
     },
     "metadata": {
      "needs_background": "light"
     },
     "output_type": "display_data"
    }
   ],
   "source": [
    "import matplotlib.pyplot as plt\n",
    "from sklearn.metrics import precision_recall_fscore_support\n",
    "\n",
    "# Calculate precision, recall, and F1-Score for each class\n",
    "precision, recall, f1_score, _ = precision_recall_fscore_support(test_labels, predicted_labels, average=None)\n",
    "\n",
    "# Class labels (assuming your classes are labeled as 0, 1, 2, ..., num_classes-1)\n",
    "class_labels = [str(i) for i in range(num_classes)]\n",
    "\n",
    "# Create subplots for Precision, Recall, and F1-Score\n",
    "fig, axes = plt.subplots(3, 1, figsize=(10, 12))\n",
    "fig.suptitle('Precision, Recall, and F1-Score by Class')\n",
    "\n",
    "# Plot Precision\n",
    "axes[0].bar(class_labels, precision)\n",
    "axes[0].set_title('Precision')\n",
    "axes[0].set_ylabel('Precision')\n",
    "axes[0].set_ylim([0, 1])\n",
    "\n",
    "# Plot Recall\n",
    "axes[1].bar(class_labels, recall)\n",
    "axes[1].set_title('Recall')\n",
    "axes[1].set_ylabel('Recall')\n",
    "axes[1].set_ylim([0, 1])\n",
    "\n",
    "# Plot F1-Score\n",
    "axes[2].bar(class_labels, f1_score)\n",
    "axes[2].set_title('F1-Score')\n",
    "axes[2].set_xlabel('Class Label')\n",
    "axes[2].set_ylabel('F1-Score')\n",
    "axes[2].set_ylim([0, 1])\n",
    "\n",
    "plt.tight_layout()\n",
    "plt.show()\n"
   ]
  },
  {
   "cell_type": "code",
   "execution_count": null,
   "id": "af52218e",
   "metadata": {},
   "outputs": [],
   "source": []
  },
  {
   "cell_type": "markdown",
   "id": "97d1784d",
   "metadata": {},
   "source": [
    "# MAKE PREDICT WITH GUI"
   ]
  },
  {
   "cell_type": "code",
   "execution_count": null,
   "id": "925a0e13",
   "metadata": {},
   "outputs": [],
   "source": []
  },
  {
   "cell_type": "code",
   "execution_count": 1,
   "id": "248910e6",
   "metadata": {},
   "outputs": [],
   "source": [
    "import tkinter as tk\n",
    "from tkinter import filedialog\n",
    "from tkinter import ttk\n",
    "import numpy as np\n",
    "from tensorflow.keras.preprocessing import image\n",
    "from tensorflow import keras\n",
    "import warnings\n",
    "import pyttsx3\n",
    "\n",
    "# Suppress TensorFlow retracing warning\n",
    "warnings.filterwarnings(\"ignore\", category=DeprecationWarning)\n",
    "\n",
    "# Load the model\n",
    "model = keras.models.load_model('FINALCODE.h5')\n",
    "\n",
    "# Initialize text-to-speech engine\n",
    "engine = pyttsx3.init()\n",
    "\n",
    "# Function to make predictions and read the output\n",
    "def predict_image():\n",
    "    # Get the image path from the entry field\n",
    "    image_path = entry.get()\n",
    "\n",
    "    # Clean the input path\n",
    "    image_path = image_path.replace('\"', '').replace('/', '\\\\')\n",
    "\n",
    "    # Check if the provided path exists\n",
    "    import os\n",
    "    if not os.path.exists(image_path):\n",
    "        result_label.config(text=\"The specified image path does not exist.\")\n",
    "        return\n",
    "\n",
    "    # Load and preprocess the new image\n",
    "    new_image = image.load_img(image_path, target_size=(32, 32), color_mode=\"grayscale\")\n",
    "    new_image = image.img_to_array(new_image)\n",
    "    new_image = np.expand_dims(new_image, axis=0)\n",
    "    new_image = new_image / 255.0  # Normalize pixel values\n",
    "\n",
    "    # Make predictions\n",
    "    predictions = model.predict(new_image)\n",
    "    predicted_class = np.argmax(predictions, axis=1)\n",
    "    result_label.config(text=f\"Predicted class: {predicted_class[0]}\")\n",
    "\n",
    "    # Read the output using text-to-speech\n",
    "    engine.say(f\"The predicted class is {predicted_class[0]}\")\n",
    "    engine.runAndWait()\n",
    "\n",
    "    # Clear the entry field\n",
    "    entry.delete(0, tk.END)\n",
    "\n",
    "# Create the main window\n",
    "root = tk.Tk()\n",
    "root.title(\"MLIA Project\")\n",
    "root.geometry(\"600x400\")  # Set the initial window size to 600x400\n",
    "\n",
    "# Create a frame for the main content\n",
    "content_frame = ttk.Frame(root, padding=(10, 10, 10, 10))\n",
    "content_frame.pack(expand=True, fill=\"both\")\n",
    "\n",
    "# Header Label\n",
    "header_label = ttk.Label(content_frame, text=\"MLIA Project\", font=(\"Helvetica\", 16))\n",
    "header_label.pack(pady=10)\n",
    "\n",
    "# Label and Entry for entering image path\n",
    "label = ttk.Label(content_frame, text=\"Enter Image Path:\")\n",
    "label.pack(pady=5)\n",
    "entry = ttk.Entry(content_frame)\n",
    "entry.pack(pady=5)\n",
    "\n",
    "# Button to browse for an image\n",
    "browse_button = ttk.Button(content_frame, text=\"Browse\", command=lambda: entry.insert(0, filedialog.askopenfilename()))\n",
    "browse_button.pack(pady=5)\n",
    "\n",
    "# Button to predict\n",
    "predict_button = ttk.Button(content_frame, text=\"Predict\", command=predict_image)\n",
    "predict_button.pack(pady=10)\n",
    "\n",
    "# Label for displaying the result\n",
    "result_label = ttk.Label(content_frame, text=\"\")\n",
    "result_label.pack(pady=10)\n",
    "\n",
    "# Run the GUI\n",
    "root.mainloop()\n"
   ]
  },
  {
   "cell_type": "code",
   "execution_count": null,
   "id": "fae61147",
   "metadata": {},
   "outputs": [],
   "source": []
  },
  {
   "cell_type": "code",
   "execution_count": null,
   "id": "56a7682a",
   "metadata": {},
   "outputs": [],
   "source": []
  }
 ],
 "metadata": {
  "kernelspec": {
   "display_name": "Python 3",
   "language": "python",
   "name": "python3"
  },
  "language_info": {
   "codemirror_mode": {
    "name": "ipython",
    "version": 3
   },
   "file_extension": ".py",
   "mimetype": "text/x-python",
   "name": "python",
   "nbconvert_exporter": "python",
   "pygments_lexer": "ipython3",
   "version": "3.8.8"
  }
 },
 "nbformat": 4,
 "nbformat_minor": 5
}
